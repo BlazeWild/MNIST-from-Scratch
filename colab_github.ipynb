{
  "cells": [
    {
      "cell_type": "code",
      "execution_count": 75,
      "metadata": {
        "id": "qLho4Z1CLZPC"
      },
      "outputs": [],
      "source": [
        "import numpy as np\n",
        "import matplotlib.pyplot as plt\n",
        "from keras.datasets import mnist\n",
        "from tensorflow.keras.utils import to_categorical"
      ]
    },
    {
      "cell_type": "code",
      "execution_count": 76,
      "metadata": {
        "id": "aAmtmyceLmuN"
      },
      "outputs": [],
      "source": [
        "#load mnist data\n",
        "def load_data():\n",
        "  (X_train, y_train), (X_test, y_test) = mnist.load_data()\n",
        "\n",
        "  #normalize\n",
        "  X_train = X_train.astype('float32') / 255.0\n",
        "  X_test = X_test.astype('float32') / 255.0\n",
        "\n",
        "  #flatten images into 1-D vectors\n",
        "  X_train = X_train.reshape((X_train.shape[0], -1))\n",
        "  X_test = X_test.reshape((X_test.shape[0], -1))\n",
        "\n",
        "  #convert output into one-hot encoded\n",
        "  y_train = to_categorical(y_train)\n",
        "  y_test = to_categorical(y_test)\n",
        "\n",
        "  return X_train, y_train, X_test, y_test"
      ]
    },
    {
      "cell_type": "code",
      "execution_count": 77,
      "metadata": {},
      "outputs": [],
      "source": [
        "# X_train, y_train, X_test, y_test = load_data()"
      ]
    },
    {
      "cell_type": "code",
      "execution_count": 78,
      "metadata": {},
      "outputs": [],
      "source": [
        "# y_train.shape"
      ]
    },
    {
      "cell_type": "code",
      "execution_count": 79,
      "metadata": {
        "id": "-ulYpgV8MMah"
      },
      "outputs": [],
      "source": [
        "def initialize_parameters(input_size, hidden_size, output_size):\n",
        "  np.random.seed(1)\n",
        "  W1 = np.random.randn(input_size, hidden_size) * 0.01\n",
        "  b1 = np.zeros((1, hidden_size))\n",
        "  W2 = np.random.randn(hidden_size, output_size) * 0.01\n",
        "  b2 = np.zeros((1, output_size))\n",
        "  return W1, b1, W2, b2"
      ]
    },
    {
      "cell_type": "code",
      "execution_count": 80,
      "metadata": {
        "id": "qYpG2RkyMcna"
      },
      "outputs": [],
      "source": [
        "# activation functions\n",
        "\n",
        "def relu(z):\n",
        "  return np.maximum(0, z)\n",
        "\n",
        "def relu_derivative(z):\n",
        "  return (z>0).astype(int)\n",
        "\n",
        "def softmax(z):\n",
        "  exp_z = np.exp(z)\n",
        "  return exp_z / np.sum(exp_z, axis=1, keepdims=True)"
      ]
    },
    {
      "cell_type": "code",
      "execution_count": 81,
      "metadata": {
        "id": "4wkHXXr9M_W-"
      },
      "outputs": [],
      "source": [
        "def forward_propagation(X, W1, b1, W2, b2):\n",
        "  Z1 = np.dot(X, W1) + b1\n",
        "  A1 = relu(Z1)\n",
        "  Z2 = np.dot(A1, W2) + b2\n",
        "  A2 = softmax(Z2)\n",
        "  return Z1, A1, Z2, A2"
      ]
    },
    {
      "cell_type": "code",
      "execution_count": 82,
      "metadata": {
        "id": "TSX-WdZxNQsy"
      },
      "outputs": [],
      "source": [
        "def cost_function(y,y_hat):\n",
        "  y_hat = y_hat+1e-10 #to prevent log 0\n",
        "  loss = -np.sum(y*np.log(y_hat))\n",
        "  cost = np.mean(loss)\n",
        "  return cost"
      ]
    },
    {
      "cell_type": "code",
      "execution_count": 83,
      "metadata": {
        "id": "h7Sb3ZKDN4UT"
      },
      "outputs": [],
      "source": [
        "def backward_propagation(X, W1,W2,A1,A2,Z1,Y):\n",
        "\n",
        "  m = X.shape[0]\n",
        "\n",
        "  dZ2 = A2 - Y\n",
        "  dW2 = np.dot(A1.T, dZ2) / m\n",
        "  db2 = np.sum(dZ2, axis=0, keepdims=True) / m\n",
        "\n",
        "  dA1 = np.dot(dZ2, W2.T)\n",
        "  dZ1 = dA1 * relu_derivative(Z1)\n",
        "  dW1 = np.dot(X.T, dZ1) / m\n",
        "  db1 = np.sum(dZ1, axis=0, keepdims=True) / m\n",
        "\n",
        "  return dW1, db1, dW2, db2\n"
      ]
    },
    {
      "cell_type": "code",
      "execution_count": null,
      "metadata": {},
      "outputs": [],
      "source": []
    },
    {
      "cell_type": "code",
      "execution_count": null,
      "metadata": {},
      "outputs": [],
      "source": []
    },
    {
      "cell_type": "code",
      "execution_count": 84,
      "metadata": {
        "id": "XwkJ5w8BO6HQ"
      },
      "outputs": [],
      "source": [
        "def update_parameters(W1, b1, W2, b2, dW1, db1, dW2, db2, learning_rate):\n",
        "  W1 = W1 - learning_rate * dW1\n",
        "  b1 = b1 - learning_rate * db1\n",
        "  W2 = W2 - learning_rate * dW2\n",
        "  b2 = b2 - learning_rate * db2\n",
        "\n",
        "  return W1, b1, W2, b2"
      ]
    },
    {
      "cell_type": "code",
      "execution_count": 85,
      "metadata": {
        "id": "w4z1-DIbO-8S"
      },
      "outputs": [],
      "source": [
        "def accuracy(y,y_hat): # Y=y and y_hat = A2\n",
        "  pred = np.argmax(y_hat,axis=1)\n",
        "  actual = np.argmax(y,axis=1)\n",
        "  return np.mean(pred==actual)"
      ]
    },
    {
      "cell_type": "code",
      "execution_count": 86,
      "metadata": {
        "id": "Rc3CyROvPNnr"
      },
      "outputs": [],
      "source": [
        "def model(X_train, y_train, input_size, hidden_size, output_size, num_iterations, learning_rate):\n",
        "\n",
        "  #initialize parameters\n",
        "  W1, b1, W2, b2 = initialize_parameters(input_size, hidden_size, output_size)\n",
        "\n",
        "  #train\n",
        "  for i in range(0,num_iterations):\n",
        "    #forward prop\n",
        "    Z1, A1, Z2, A2 = forward_propagation(X_train, W1, b1, W2, b2)\n",
        "\n",
        "    #compute cost\n",
        "    cost = cost_function(y_train, A2)\n",
        "\n",
        "    #backward prop\n",
        "    dW1, db1, dW2, db2 = backward_propagation(X_train, W1, W2, A1, A2, Z1, y_train)\n",
        "\n",
        "    #update params\n",
        "    W1, b1, W2, b2 = update_parameters(W1, b1, W2, b2, dW1, db1, dW2, db2, learning_rate)\n",
        "\n",
        "    #print cost and accuracy\n",
        "\n",
        "\n",
        "    if i % 100 == 0:\n",
        "      acc = accuracy(y_train, A2)\n",
        "      print(f\"Iteration: {i}, Cost: {cost} - accuracy: {acc* 100:.3f}%\")\n",
        "\n",
        "  return W1, b1, W2, b2\n",
        "\n"
      ]
    },
    {
      "cell_type": "code",
      "execution_count": 87,
      "metadata": {
        "colab": {
          "base_uri": "https://localhost:8080/"
        },
        "id": "q9KlpguFRSrH",
        "outputId": "b5f4a7c6-3a7a-48f1-db19-fa8beb2df7ea"
      },
      "outputs": [],
      "source": [
        "#load data\n",
        "X_train, y_train, X_test, y_test = load_data()\n",
        "\n",
        "#initialize inputs\n",
        "\n",
        "input_size = X_train.shape[1]\n",
        "output_size = 10\n",
        "hidden_size = 128\n",
        "num_iterations = 1000\n",
        "learning_rate = 0.1"
      ]
    },
    {
      "cell_type": "code",
      "execution_count": 88,
      "metadata": {
        "colab": {
          "base_uri": "https://localhost:8080/",
          "height": 252
        },
        "id": "__HejpReRCa_",
        "outputId": "dc2191aa-1be1-4b5a-e9d3-6158d1fc9f88"
      },
      "outputs": [
        {
          "name": "stdout",
          "output_type": "stream",
          "text": [
            "Iteration: 0, Cost: 138114.3915716559 - accuracy: 13.855%\n",
            "Iteration: 100, Cost: 55820.096550885864 - accuracy: 79.282%\n",
            "Iteration: 200, Cost: 30044.093933808694 - accuracy: 86.938%\n",
            "Iteration: 300, Cost: 24187.995607695284 - accuracy: 88.952%\n",
            "Iteration: 400, Cost: 21637.401786610964 - accuracy: 89.923%\n",
            "Iteration: 500, Cost: 20114.07308533426 - accuracy: 90.530%\n",
            "Iteration: 600, Cost: 19021.428371356953 - accuracy: 91.003%\n",
            "Iteration: 700, Cost: 18146.552195769018 - accuracy: 91.398%\n",
            "Iteration: 800, Cost: 17395.837414235702 - accuracy: 91.783%\n",
            "Iteration: 900, Cost: 16727.977477003966 - accuracy: 92.088%\n"
          ]
        }
      ],
      "source": [
        "#train model and see accuracy\n",
        "W1,b1,W2,b2 = model(X_train, y_train, input_size,hidden_size, output_size, num_iterations, learning_rate)\n"
      ]
    },
    {
      "cell_type": "code",
      "execution_count": 102,
      "metadata": {},
      "outputs": [],
      "source": [
        "def pred_test_set(X_test, W1, b1, W2, b2):\n",
        "    _,_,_,A2_test = forward_propagation(X_test, W1, b1, W2, b2)\n",
        "    test_acc = accuracy(y_test, A2_test)\n",
        "    return test_acc"
      ]
    },
    {
      "cell_type": "code",
      "execution_count": 103,
      "metadata": {},
      "outputs": [
        {
          "name": "stdout",
          "output_type": "stream",
          "text": [
            "Final Test Accuracy: 92.770%\n"
          ]
        },
        {
          "ename": "IndexError",
          "evalue": "invalid index to scalar variable.",
          "output_type": "error",
          "traceback": [
            "\u001b[1;31m---------------------------------------------------------------------------\u001b[0m",
            "\u001b[1;31mIndexError\u001b[0m                                Traceback (most recent call last)",
            "Cell \u001b[1;32mIn[103], line 11\u001b[0m\n\u001b[0;32m      9\u001b[0m     plt\u001b[38;5;241m.\u001b[39msubplot(\u001b[38;5;241m2\u001b[39m, \u001b[38;5;241m5\u001b[39m, i \u001b[38;5;241m+\u001b[39m \u001b[38;5;241m1\u001b[39m)\n\u001b[0;32m     10\u001b[0m     plt\u001b[38;5;241m.\u001b[39mimshow(X_test[i]\u001b[38;5;241m.\u001b[39mreshape(\u001b[38;5;241m28\u001b[39m, \u001b[38;5;241m28\u001b[39m), cmap\u001b[38;5;241m=\u001b[39m\u001b[38;5;124m'\u001b[39m\u001b[38;5;124mgray\u001b[39m\u001b[38;5;124m'\u001b[39m)\n\u001b[1;32m---> 11\u001b[0m     plt\u001b[38;5;241m.\u001b[39mtitle(\u001b[38;5;124mf\u001b[39m\u001b[38;5;124m\"\u001b[39m\u001b[38;5;124mPred: \u001b[39m\u001b[38;5;132;01m{\u001b[39;00m\u001b[43mtest_accuracy\u001b[49m\u001b[43m[\u001b[49m\u001b[43mi\u001b[49m\u001b[43m]\u001b[49m\u001b[38;5;132;01m}\u001b[39;00m\u001b[38;5;130;01m\\n\u001b[39;00m\u001b[38;5;124mTrue: \u001b[39m\u001b[38;5;132;01m{\u001b[39;00mnp\u001b[38;5;241m.\u001b[39margmax(y_test[i])\u001b[38;5;132;01m}\u001b[39;00m\u001b[38;5;124m\"\u001b[39m)\n\u001b[0;32m     12\u001b[0m     plt\u001b[38;5;241m.\u001b[39maxis(\u001b[38;5;124m'\u001b[39m\u001b[38;5;124moff\u001b[39m\u001b[38;5;124m'\u001b[39m)\n\u001b[0;32m     13\u001b[0m plt\u001b[38;5;241m.\u001b[39mtight_layout()\n",
            "\u001b[1;31mIndexError\u001b[0m: invalid index to scalar variable."
          ]
        },
        {
          "data": {
            "image/png": "[encoded data removed]",
            "text/plain": [
              "<Figure size 1000x500 with 1 Axes>"
            ]
          },
          "metadata": {},
          "output_type": "display_data"
        }
      ],
      "source": [
        "# Make predictions on the test set\n",
        "test_accuracy = pred_test_set(X_test, W1, b1, W2, b2)\n",
        "print(f\"Final Test Accuracy: { test_accuracy* 100:.3f}%\")\n",
        "\n",
        "# Display some images with predictions\n",
        "num_examples = 10\n",
        "plt.figure(figsize=(10, 5))\n",
        "for i in range(num_examples):\n",
        "    plt.subplot(2, 5, i + 1)\n",
        "    plt.imshow(X_test[i].reshape(28, 28), cmap='gray')\n",
        "    plt.title(f\"Pred: {test_accuracy[i]}\\nTrue: {np.argmax(y_test[i])}\")\n",
        "    plt.axis('off')\n",
        "plt.tight_layout()\n",
        "plt.show()\n"
      ]
    },
    {
      "cell_type": "code",
      "execution_count": 94,
      "metadata": {},
      "outputs": [
        {
          "ename": "NameError",
          "evalue": "name 'predictions' is not defined",
          "output_type": "error",
          "traceback": [
            "\u001b[1;31m---------------------------------------------------------------------------\u001b[0m",
            "\u001b[1;31mNameError\u001b[0m                                 Traceback (most recent call last)",
            "Cell \u001b[1;32mIn[94], line 7\u001b[0m\n\u001b[0;32m      5\u001b[0m     plt\u001b[38;5;241m.\u001b[39msubplot(\u001b[38;5;241m2\u001b[39m, \u001b[38;5;241m5\u001b[39m, i \u001b[38;5;241m+\u001b[39m \u001b[38;5;241m1\u001b[39m)\n\u001b[0;32m      6\u001b[0m     plt\u001b[38;5;241m.\u001b[39mimshow(X_test[i]\u001b[38;5;241m.\u001b[39mreshape(\u001b[38;5;241m28\u001b[39m, \u001b[38;5;241m28\u001b[39m), cmap\u001b[38;5;241m=\u001b[39m\u001b[38;5;124m'\u001b[39m\u001b[38;5;124mgray\u001b[39m\u001b[38;5;124m'\u001b[39m)\n\u001b[1;32m----> 7\u001b[0m     plt\u001b[38;5;241m.\u001b[39mtitle(\u001b[38;5;124mf\u001b[39m\u001b[38;5;124m\"\u001b[39m\u001b[38;5;124mPred: \u001b[39m\u001b[38;5;132;01m{\u001b[39;00m\u001b[43mpredictions\u001b[49m[i]\u001b[38;5;132;01m}\u001b[39;00m\u001b[38;5;130;01m\\n\u001b[39;00m\u001b[38;5;124mTrue: \u001b[39m\u001b[38;5;132;01m{\u001b[39;00mnp\u001b[38;5;241m.\u001b[39margmax(y_test_one_hot[i])\u001b[38;5;132;01m}\u001b[39;00m\u001b[38;5;124m\"\u001b[39m)\n\u001b[0;32m      8\u001b[0m     plt\u001b[38;5;241m.\u001b[39maxis(\u001b[38;5;124m'\u001b[39m\u001b[38;5;124moff\u001b[39m\u001b[38;5;124m'\u001b[39m)\n\u001b[0;32m      9\u001b[0m plt\u001b[38;5;241m.\u001b[39mtight_layout()\n",
            "\u001b[1;31mNameError\u001b[0m: name 'predictions' is not defined"
          ]
        },
        {
          "data": {
            "image/png": "[encoded data removed]",
            "text/plain": [
              "<Figure size 1000x500 with 1 Axes>"
            ]
          },
          "metadata": {},
          "output_type": "display_data"
        }
      ],
      "source": [
        "# Display some images with predictions\n",
        "num_examples = 10\n",
        "plt.figure(figsize=(10, 5))\n",
        "for i in range(num_examples):\n",
        "    plt.subplot(2, 5, i + 1)\n",
        "    plt.imshow(X_test[i].reshape(28, 28), cmap='gray')\n",
        "    plt.title(f\"Pred: {pred[i]}\\nTrue: {np.argmax(y_test_one_hot[i])}\")\n",
        "    plt.axis('off')\n",
        "plt.tight_layout()\n",
        "plt.show()"
      ]
    },
    {
      "cell_type": "code",
      "execution_count": null,
      "metadata": {
        "id": "LDMXN6SKRlQx"
      },
      "outputs": [],
      "source": []
    }
  ],
  "metadata": {
    "accelerator": "GPU",
    "colab": {
      "authorship_tag": "ABX9TyMLd85HdZiujcHHj9+upiY/",
      "gpuType": "T4",
      "provenance": []
    },
    "kernelspec": {
      "display_name": "Python 3",
      "name": "python3"
    },
    "language_info": {
      "codemirror_mode": {
        "name": "ipython",
        "version": 3
      },
      "file_extension": ".py",
      "mimetype": "text/x-python",
      "name": "python",
      "nbconvert_exporter": "python",
      "pygments_lexer": "ipython3",
      "version": "3.11.4"
    }
  },
  "nbformat": 4,
  "nbformat_minor": 0
}
