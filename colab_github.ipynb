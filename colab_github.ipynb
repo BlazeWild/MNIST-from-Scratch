{
  "nbformat": 4,
  "nbformat_minor": 0,
  "metadata": {
    "colab": {
      "provenance": [],
      "gpuType": "T4",
      "authorship_tag": "ABX9TyMLd85HdZiujcHHj9+upiY/"
    },
    "kernelspec": {
      "name": "python3",
      "display_name": "Python 3"
    },
    "language_info": {
      "name": "python"
    },
    "accelerator": "GPU"
  },
  "cells": [
    {
      "cell_type": "code",
      "source": [
        "import numpy as np\n",
        "import matplotlib.pyplot as plt\n",
        "from keras.datasets import mnist\n",
        "from tensorflow.keras.utils import to_categorical"
      ],
      "metadata": {
        "id": "qLho4Z1CLZPC"
      },
      "execution_count": 1,
      "outputs": []
    },
    {
      "cell_type": "code",
      "source": [
        "#load mnist data\n",
        "def load_data():\n",
        "  (X_train, y_train), (X_test, y_test) = mnist.load_data()\n",
        "\n",
        "  #normalize\n",
        "  X_train = X_train.astype('float32') / 255.0\n",
        "  X_test = X_test.astype('float32') / 255.0\n",
        "\n",
        "  #flatten images into 1-D vectors\n",
        "  X_train = X_train.reshape((X_train.shape[0], -1))\n",
        "  X_test = X_test.reshape((X_test.shape[0], -1))\n",
        "\n",
        "  #convert output into one-hot encoded\n",
        "  y_train = to_categorical(y_train)\n",
        "  y_test = to_categorical(y_test)\n",
        "\n",
        "  return X_train, y_train, X_test, y_test"
      ],
      "metadata": {
        "id": "aAmtmyceLmuN"
      },
      "execution_count": 2,
      "outputs": []
    },
    {
      "cell_type": "code",
      "source": [
        "def initialize_parameters(input_size, hidden_size, output_size):\n",
        "  np.random.seed(1)\n",
        "  W1 = np.random.randn(input_size, hidden_size) * 0.01\n",
        "  b1 = np.zeros((1, hidden_size))\n",
        "  W2 = np.random.randn(hidden_size, output_size) * 0.01\n",
        "  b2 = np.zeros((1, output_size))\n",
        "  return W1, b1, W2, b2"
      ],
      "metadata": {
        "id": "-ulYpgV8MMah"
      },
      "execution_count": 3,
      "outputs": []
    },
    {
      "cell_type": "code",
      "source": [
        "# activation functions\n",
        "\n",
        "def relu(z):\n",
        "  return np.maximum(0, z)\n",
        "\n",
        "def relu_derivative(z):\n",
        "  return (z>0).astype(int)\n",
        "\n",
        "def softmax(z):\n",
        "  exp_z = np.exp(z)\n",
        "  return exp_z / np.sum(exp_z, axis=1, keepdims=True)"
      ],
      "metadata": {
        "id": "qYpG2RkyMcna"
      },
      "execution_count": 4,
      "outputs": []
    },
    {
      "cell_type": "code",
      "source": [
        "def forward_propagation(X, W1, b1, W2, b2):\n",
        "  Z1 = np.dot(X, W1) + b1\n",
        "  A1 = relu(Z1)\n",
        "  Z2 = np.dot(A1, W2) + b2\n",
        "  A2 = softmax(Z2)\n",
        "  return Z1, A1, Z2, A2"
      ],
      "metadata": {
        "id": "4wkHXXr9M_W-"
      },
      "execution_count": 5,
      "outputs": []
    },
    {
      "cell_type": "code",
      "source": [
        "def cost_function(y,y_hat):\n",
        "  y_hat = y_hat+1e-10 #to prevent log 0\n",
        "  loss = -np.sum(y*np.log(y_hat))\n",
        "  cost = np.mean(loss)\n",
        "  return cost"
      ],
      "metadata": {
        "id": "TSX-WdZxNQsy"
      },
      "execution_count": 6,
      "outputs": []
    },
    {
      "cell_type": "code",
      "source": [
        "def backward_propagation(X, W1,W2,A1,A2,Z1,Y):\n",
        "\n",
        "  m = X.shape[0]\n",
        "\n",
        "  dZ2 = A2 - Y\n",
        "  dW2 = np.dot(A1.T, dZ2) / m\n",
        "  db2 = np.sum(dZ2, axis=0, keepdims=True) / m\n",
        "\n",
        "  dA1 = np.dot(dZ2, W2.T)\n",
        "  dZ1 = dA1 * relu_derivative(Z1)\n",
        "  dW1 = np.dot(X.T, dZ1) / m\n",
        "  db1 = np.sum(dZ1, axis=0, keepdims=True) / m\n",
        "\n",
        "  return dW1, db1, dW2, db2\n"
      ],
      "metadata": {
        "id": "h7Sb3ZKDN4UT"
      },
      "execution_count": 7,
      "outputs": []
    },
    {
      "cell_type": "code",
      "source": [
        "def update_parameters(W1, b1, W2, b2, dW1, db1, dW2, db2, learning_rate):\n",
        "  W1 = W1 - learning_rate * dW1\n",
        "  b1 = b1 - learning_rate * db1\n",
        "  W2 = W2 - learning_rate * dW2\n",
        "  b2 = b2 - learning_rate * db2\n",
        "\n",
        "  return W1, b1, W2, b2"
      ],
      "metadata": {
        "id": "XwkJ5w8BO6HQ"
      },
      "execution_count": 8,
      "outputs": []
    },
    {
      "cell_type": "code",
      "source": [
        "def accuracy(y,y_hat): # Y=y and y_hat = A2\n",
        "  return np.mean(np.argmax(y_hat,axis=1) == y)"
      ],
      "metadata": {
        "id": "w4z1-DIbO-8S"
      },
      "execution_count": 9,
      "outputs": []
    },
    {
      "cell_type": "code",
      "source": [
        "def model(X_train, y_train, input_size, hidden_size, output_size, num_iterations, learning_rate):\n",
        "\n",
        "  #initialize parameters\n",
        "  W1, b1, W2, b2 = initialize_parameters(input_size, hidden_size, output_size)\n",
        "\n",
        "  #train\n",
        "  for i in range(1,num_iterations+1):\n",
        "    #forward prop\n",
        "    Z1, A1, Z2, A2 = forward_propagation(X_train, W1, b1, W2, b2)\n",
        "\n",
        "    #compute cost\n",
        "    cost = cost_function(y_train, A2)\n",
        "\n",
        "    #backward prop\n",
        "    dW1, db1, dW2, db2 = backward_propagation(X_train, W1, W2, A1, A2, Z1, y_train)\n",
        "\n",
        "    #update params\n",
        "    W1, b1, W2, b2 = update_parameters(W1, b1, W2, b2, dW1, db1, dW2, db2, learning_rate)\n",
        "\n",
        "    #print cost and accuracy\n",
        "\n",
        "\n",
        "    if i % 100 == 0:\n",
        "      acc = accuracy(y_train, A2)\n",
        "      print(f\"Iteration: {i}, Cost: {cost} - accuracy: {acc* 100:.3f}%\")\n",
        "\n",
        "  return W1, b1, W2, b2\n",
        "\n"
      ],
      "metadata": {
        "id": "Rc3CyROvPNnr"
      },
      "execution_count": 10,
      "outputs": []
    },
    {
      "cell_type": "code",
      "source": [
        "#load data\n",
        "X_train, y_train, X_test, y_test = load_data()\n",
        "\n",
        "#initialize inputs\n",
        "\n",
        "input_size = X_train.shape[1]\n",
        "output_size = 10\n",
        "hidden_size = 128\n",
        "num_iterations = 1000\n",
        "learning_rate = 0.01"
      ],
      "metadata": {
        "id": "q9KlpguFRSrH",
        "colab": {
          "base_uri": "https://localhost:8080/"
        },
        "outputId": "b5f4a7c6-3a7a-48f1-db19-fa8beb2df7ea"
      },
      "execution_count": 11,
      "outputs": [
        {
          "output_type": "stream",
          "name": "stdout",
          "text": [
            "Downloading data from https://storage.googleapis.com/tensorflow/tf-keras-datasets/mnist.npz\n",
            "11490434/11490434 [==============================] - 0s 0us/step\n"
          ]
        }
      ]
    },
    {
      "cell_type": "code",
      "source": [
        "#train model and see accuracy\n",
        "W1,b1,W2,b2 = model(X_train, y_train, input_size,hidden_size, output_size, num_iterations, learning_rate)\n"
      ],
      "metadata": {
        "colab": {
          "base_uri": "https://localhost:8080/",
          "height": 252
        },
        "id": "__HejpReRCa_",
        "outputId": "dc2191aa-1be1-4b5a-e9d3-6158d1fc9f88"
      },
      "execution_count": 12,
      "outputs": [
        {
          "output_type": "error",
          "ename": "ValueError",
          "evalue": "operands could not be broadcast together with shapes (60000,) (60000,10) ",
          "traceback": [
            "\u001b[0;31m---------------------------------------------------------------------------\u001b[0m",
            "\u001b[0;31mValueError\u001b[0m                                Traceback (most recent call last)",
            "\u001b[0;32m<ipython-input-12-5b011d6ec2d4>\u001b[0m in \u001b[0;36m<cell line: 2>\u001b[0;34m()\u001b[0m\n\u001b[1;32m      1\u001b[0m \u001b[0;31m#train model and see accuracy\u001b[0m\u001b[0;34m\u001b[0m\u001b[0;34m\u001b[0m\u001b[0m\n\u001b[0;32m----> 2\u001b[0;31m \u001b[0mW1\u001b[0m\u001b[0;34m,\u001b[0m\u001b[0mb1\u001b[0m\u001b[0;34m,\u001b[0m\u001b[0mW2\u001b[0m\u001b[0;34m,\u001b[0m\u001b[0mb2\u001b[0m \u001b[0;34m=\u001b[0m \u001b[0mmodel\u001b[0m\u001b[0;34m(\u001b[0m\u001b[0mX_train\u001b[0m\u001b[0;34m,\u001b[0m \u001b[0my_train\u001b[0m\u001b[0;34m,\u001b[0m \u001b[0minput_size\u001b[0m\u001b[0;34m,\u001b[0m\u001b[0mhidden_size\u001b[0m\u001b[0;34m,\u001b[0m \u001b[0moutput_size\u001b[0m\u001b[0;34m,\u001b[0m \u001b[0mnum_iterations\u001b[0m\u001b[0;34m,\u001b[0m \u001b[0mlearning_rate\u001b[0m\u001b[0;34m)\u001b[0m\u001b[0;34m\u001b[0m\u001b[0;34m\u001b[0m\u001b[0m\n\u001b[0m",
            "\u001b[0;32m<ipython-input-10-3e3bfe3de9ae>\u001b[0m in \u001b[0;36mmodel\u001b[0;34m(X_train, y_train, input_size, hidden_size, output_size, num_iterations, learning_rate)\u001b[0m\n\u001b[1;32m     22\u001b[0m \u001b[0;34m\u001b[0m\u001b[0m\n\u001b[1;32m     23\u001b[0m     \u001b[0;32mif\u001b[0m \u001b[0mi\u001b[0m \u001b[0;34m%\u001b[0m \u001b[0;36m100\u001b[0m \u001b[0;34m==\u001b[0m \u001b[0;36m0\u001b[0m\u001b[0;34m:\u001b[0m\u001b[0;34m\u001b[0m\u001b[0;34m\u001b[0m\u001b[0m\n\u001b[0;32m---> 24\u001b[0;31m       \u001b[0macc\u001b[0m \u001b[0;34m=\u001b[0m \u001b[0maccuracy\u001b[0m\u001b[0;34m(\u001b[0m\u001b[0my_train\u001b[0m\u001b[0;34m,\u001b[0m \u001b[0mA2\u001b[0m\u001b[0;34m)\u001b[0m\u001b[0;34m\u001b[0m\u001b[0;34m\u001b[0m\u001b[0m\n\u001b[0m\u001b[1;32m     25\u001b[0m       \u001b[0mprint\u001b[0m\u001b[0;34m(\u001b[0m\u001b[0;34mf\"Iteration: {i}, Cost: {cost} - accuracy: {acc* 100:.3f}%\"\u001b[0m\u001b[0;34m)\u001b[0m\u001b[0;34m\u001b[0m\u001b[0;34m\u001b[0m\u001b[0m\n\u001b[1;32m     26\u001b[0m \u001b[0;34m\u001b[0m\u001b[0m\n",
            "\u001b[0;32m<ipython-input-9-0e8fb77a9316>\u001b[0m in \u001b[0;36maccuracy\u001b[0;34m(y, y_hat)\u001b[0m\n\u001b[1;32m      1\u001b[0m \u001b[0;32mdef\u001b[0m \u001b[0maccuracy\u001b[0m\u001b[0;34m(\u001b[0m\u001b[0my\u001b[0m\u001b[0;34m,\u001b[0m\u001b[0my_hat\u001b[0m\u001b[0;34m)\u001b[0m\u001b[0;34m:\u001b[0m \u001b[0;31m# Y=y and y_hat = A2\u001b[0m\u001b[0;34m\u001b[0m\u001b[0;34m\u001b[0m\u001b[0m\n\u001b[0;32m----> 2\u001b[0;31m   \u001b[0;32mreturn\u001b[0m \u001b[0mnp\u001b[0m\u001b[0;34m.\u001b[0m\u001b[0mmean\u001b[0m\u001b[0;34m(\u001b[0m\u001b[0mnp\u001b[0m\u001b[0;34m.\u001b[0m\u001b[0margmax\u001b[0m\u001b[0;34m(\u001b[0m\u001b[0my_hat\u001b[0m\u001b[0;34m,\u001b[0m\u001b[0maxis\u001b[0m\u001b[0;34m=\u001b[0m\u001b[0;36m1\u001b[0m\u001b[0;34m)\u001b[0m \u001b[0;34m==\u001b[0m \u001b[0my\u001b[0m\u001b[0;34m)\u001b[0m\u001b[0;34m\u001b[0m\u001b[0;34m\u001b[0m\u001b[0m\n\u001b[0m",
            "\u001b[0;31mValueError\u001b[0m: operands could not be broadcast together with shapes (60000,) (60000,10) "
          ]
        }
      ]
    },
    {
      "cell_type": "code",
      "source": [],
      "metadata": {
        "id": "LDMXN6SKRlQx"
      },
      "execution_count": null,
      "outputs": []
    }
  ]
}