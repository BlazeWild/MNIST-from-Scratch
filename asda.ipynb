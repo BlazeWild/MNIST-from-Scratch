{
 "cells": [
  {
   "cell_type": "code",
   "execution_count": 4,
   "metadata": {},
   "outputs": [
    {
     "name": "stdout",
     "output_type": "stream",
     "text": [
      "Iteration 0: Cost = 2.302687860431422, Training Accuracy = 10.57%\n",
      "Iteration 100: Cost = 1.0823535095055634, Training Accuracy = 75.53%\n",
      "Iteration 200: Cost = 0.5331598129444459, Training Accuracy = 86.12%\n",
      "Iteration 300: Cost = 0.42038422906343426, Training Accuracy = 88.64%\n",
      "Iteration 400: Cost = 0.37240034829948565, Training Accuracy = 89.61%\n",
      "Iteration 500: Cost = 0.3446404599518443, Training Accuracy = 90.31%\n",
      "Iteration 600: Cost = 0.32542854011118577, Training Accuracy = 90.77%\n",
      "Iteration 700: Cost = 0.31058420265075776, Training Accuracy = 91.18%\n",
      "Iteration 800: Cost = 0.2981977908172641, Training Accuracy = 91.51%\n",
      "Iteration 900: Cost = 0.2872354417723609, Training Accuracy = 91.85%\n",
      "Final Test Cost = 0.26873234027938697, Test Accuracy = 92.46%\n"
     ]
    },
    {
     "data": {
      "image/png": "[encoded data removed]",
      "text/plain": [
       "<Figure size 1000x500 with 10 Axes>"
      ]
     },
     "metadata": {},
     "output_type": "display_data"
    }
   ],
   "source": [
    "import numpy as np\n",
    "from keras.datasets import mnist\n",
    "import matplotlib.pyplot as plt\n",
    "from tensorflow.keras.utils import to_categorical\n",
    "\n",
    "# Load MNIST dataset\n",
    "# Load MNIST dataset\n",
    "def load_mnist():\n",
    "    (X_train, y_train), (X_test, y_test) = mnist.load_data()\n",
    "    # Normalize pixel values to between 0 and 1\n",
    "    X_train = X_train.astype('float32') / 255.0\n",
    "    X_test = X_test.astype('float32') / 255.0\n",
    "    # Flatten images into 1D vectors\n",
    "    X_train = X_train.reshape((X_train.shape[0], -1))\n",
    "    X_test = X_test.reshape((X_test.shape[0], -1))\n",
    "    # Convert labels to categorical (one-hot encoding)\n",
    "    y_train = to_categorical(y_train)\n",
    "    y_test = to_categorical(y_test)\n",
    "    return X_train, y_train, X_test, y_test\n",
    "\n",
    "def initialize_parameters(input_size, hidden_size, output_size):\n",
    "    np.random.seed(42)\n",
    "    W1 = np.random.randn(input_size, hidden_size) * 0.01\n",
    "    b1 = np.zeros((1, hidden_size))\n",
    "    W2 = np.random.randn(hidden_size, output_size) * 0.01\n",
    "    b2 = np.zeros((1, output_size))\n",
    "    return W1, b1, W2, b2\n",
    "\n",
    "\n",
    "def relu(Z):\n",
    "    return np.maximum(0,Z)\n",
    "    \n",
    "def relu_derivative(Z): #we need relu derivation for backprop \n",
    "    return (Z>0).astype(int)\n",
    "\n",
    "def softmax(z):\n",
    "    exp_z = np.exp(z - np.max(z, axis=1, keepdims=True))\n",
    "    return exp_z / np.sum(exp_z, axis=1, keepdims=True)\n",
    "\n",
    "def forward_propagation(X, W1, b1, W2, b2):\n",
    "    Z1 = np.dot(X, W1) + b1\n",
    "    A1 = relu(Z1)\n",
    "    Z2 = np.dot(A1, W2) + b2\n",
    "    A2 = softmax(Z2)\n",
    "    cache = (Z1, A1, Z2, A2)\n",
    "    return A2, cache\n",
    "\n",
    "def compute_cost(A2, Y):\n",
    "    m = Y.shape[0]\n",
    "    logprobs = np.multiply(np.log(A2), Y)\n",
    "    cost = -np.sum(logprobs) / m\n",
    "    return cost\n",
    "\n",
    "def backward_propagation(X, Y, cache, W1, W2):\n",
    "    m = X.shape[0]\n",
    "    Z1, A1, Z2, A2 = cache\n",
    "\n",
    "    dZ2 = A2 - Y\n",
    "    dW2 = np.dot(A1.T, dZ2) / m\n",
    "    db2 = np.sum(dZ2, axis=0, keepdims=True) / m\n",
    "\n",
    "    dA1 = np.dot(dZ2, W2.T)\n",
    "    dZ1 = dA1 * relu_derivative(Z1)\n",
    "    dW1 = np.dot(X.T, dZ1) / m\n",
    "    db1 = np.sum(dZ1, axis=0, keepdims=True) / m\n",
    "\n",
    "    return dW1, db1, dW2, db2\n",
    "\n",
    "def update_parameters(W1, b1, W2, b2, dW1, db1, dW2, db2, learning_rate):\n",
    "    W1 -= learning_rate * dW1\n",
    "    b1 -= learning_rate * db1\n",
    "    W2 -= learning_rate * dW2\n",
    "    b2 -= learning_rate * db2\n",
    "    return W1, b1, W2, b2\n",
    "\n",
    "def model(X_train, y_train_one_hot, X_test, y_test, hidden_size, learning_rate, num_iterations):\n",
    "    input_size = X_train.shape[1]\n",
    "    output_size = y_train_one_hot.shape[1]\n",
    "    \n",
    "    W1, b1, W2, b2 = initialize_parameters(input_size, hidden_size, output_size)\n",
    "    \n",
    "    for i in range(num_iterations):\n",
    "        A2, cache = forward_propagation(X_train, W1, b1, W2, b2)\n",
    "        cost = compute_cost(A2, y_train_one_hot)\n",
    "        \n",
    "        dW1, db1, dW2, db2 = backward_propagation(X_train, y_train_one_hot, cache, W1, W2)\n",
    "        W1, b1, W2, b2 = update_parameters(W1, b1, W2, b2, dW1, db1, dW2, db2, learning_rate)\n",
    "        \n",
    "        if i % 100 == 0:\n",
    "            train_accuracy = np.mean(np.argmax(A2, axis=1) == np.argmax(y_train_one_hot, axis=1))\n",
    "            print(f\"Iteration {i}: Cost = {cost}, Training Accuracy = {train_accuracy * 100:.2f}%\")\n",
    "    \n",
    "    # Evaluate on test set\n",
    "    A2, _ = forward_propagation(X_test, W1, b1, W2, b2)\n",
    "    test_accuracy = np.mean(np.argmax(A2, axis=1) == np.argmax(y_test, axis=1))\n",
    "    test_cost = compute_cost(A2, y_test)\n",
    "    print(f\"Final Test Cost = {test_cost}, Test Accuracy = {test_accuracy * 100:.2f}%\")\n",
    "    \n",
    "    return W1, b1, W2, b2\n",
    "\n",
    "def predict(X, W1, b1, W2, b2):\n",
    "    A2, _ = forward_propagation(X, W1, b1, W2, b2)\n",
    "    predictions = np.argmax(A2, axis=1)\n",
    "    return predictions\n",
    "\n",
    "# Load the data\n",
    "X_train, y_train_one_hot, X_test, y_test_one_hot = load_mnist()\n",
    "\n",
    "# Train the model\n",
    "W1, b1, W2, b2 = model(X_train, y_train_one_hot, X_test, y_test_one_hot, hidden_size=64, learning_rate=0.1, num_iterations=1000)\n",
    "\n"
   ]
  },
  {
   "cell_type": "code",
   "execution_count": 1,
   "metadata": {},
   "outputs": [
    {
     "ename": "NameError",
     "evalue": "name 'plt' is not defined",
     "output_type": "error",
     "traceback": [
      "\u001b[1;31m---------------------------------------------------------------------------\u001b[0m",
      "\u001b[1;31mNameError\u001b[0m                                 Traceback (most recent call last)",
      "Cell \u001b[1;32mIn[1], line 3\u001b[0m\n\u001b[0;32m      1\u001b[0m \u001b[38;5;66;03m# Display some images with predictions\u001b[39;00m\n\u001b[0;32m      2\u001b[0m num_examples \u001b[38;5;241m=\u001b[39m \u001b[38;5;241m10\u001b[39m\n\u001b[1;32m----> 3\u001b[0m \u001b[43mplt\u001b[49m\u001b[38;5;241m.\u001b[39mfigure(figsize\u001b[38;5;241m=\u001b[39m(\u001b[38;5;241m10\u001b[39m, \u001b[38;5;241m5\u001b[39m))\n\u001b[0;32m      4\u001b[0m \u001b[38;5;28;01mfor\u001b[39;00m i \u001b[38;5;129;01min\u001b[39;00m \u001b[38;5;28mrange\u001b[39m(num_examples):\n\u001b[0;32m      5\u001b[0m     plt\u001b[38;5;241m.\u001b[39msubplot(\u001b[38;5;241m2\u001b[39m, \u001b[38;5;241m5\u001b[39m, i \u001b[38;5;241m+\u001b[39m \u001b[38;5;241m1\u001b[39m)\n",
      "\u001b[1;31mNameError\u001b[0m: name 'plt' is not defined"
     ]
    }
   ],
   "source": [
    "# Display some images with predictions\n",
    "num_examples = 10\n",
    "plt.figure(figsize=(10, 5))\n",
    "for i in range(num_examples):\n",
    "    plt.subplot(2, 5, i + 1)\n",
    "    plt.imshow(X_test[i].reshape(28, 28), cmap='gray')\n",
    "    plt.title(f\"Pred: {predictions[i]}\\nTrue: {np.argmax(y_test_one_hot[i])}\")\n",
    "    plt.axis('off')\n",
    "plt.tight_layout()\n",
    "plt.show()"
   ]
  },
  {
   "cell_type": "code",
   "execution_count": null,
   "metadata": {},
   "outputs": [],
   "source": []
  }
 ],
 "metadata": {
  "kernelspec": {
   "display_name": "Python 3",
   "language": "python",
   "name": "python3"
  },
  "language_info": {
   "codemirror_mode": {
    "name": "ipython",
    "version": 3
   },
   "file_extension": ".py",
   "mimetype": "text/x-python",
   "name": "python",
   "nbconvert_exporter": "python",
   "pygments_lexer": "ipython3",
   "version": "3.11.4"
  }
 },
 "nbformat": 4,
 "nbformat_minor": 2
}
